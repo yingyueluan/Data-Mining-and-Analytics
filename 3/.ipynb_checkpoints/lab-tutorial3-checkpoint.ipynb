{
 "cells": [
  {
   "cell_type": "markdown",
   "metadata": {},
   "source": [
    "# Lab 3 - Decision Trees"
   ]
  },
  {
   "cell_type": "markdown",
   "metadata": {},
   "source": [
    "## Agenda\n",
    "\n",
    "- lambda functions\n",
    "- pandas `map`, `apply` (and `merge`)\n",
    "- itertools and counters\n",
    "- classifiers (estimators) from sklearn\n"
   ]
  },
  {
   "cell_type": "code",
   "execution_count": 11,
   "metadata": {
    "collapsed": true
   },
   "outputs": [],
   "source": [
    "import itertools\n",
    "from collections import Counter\n",
    "import pandas as pd\n",
    "import numpy as np\n",
    "\n",
    "from sklearn.tree import DecisionTreeClassifier\n",
    "from sklearn.metrics import accuracy_score"
   ]
  },
  {
   "cell_type": "markdown",
   "metadata": {},
   "source": [
    "#### Lambda Function Review\n",
    "\n",
    "Lambda's are one line functions that are not named. Write a function to find the reciprocal of a number. "
   ]
  },
  {
   "cell_type": "code",
   "execution_count": 14,
   "metadata": {},
   "outputs": [
    {
     "data": {
      "text/plain": [
       "0.2"
      ]
     },
     "execution_count": 14,
     "metadata": {},
     "output_type": "execute_result"
    }
   ],
   "source": [
    "# lambda x: pass\n",
    "inc = lambda x: 1/x if x !=0 else np.nan\n",
    "inc(5)"
   ]
  },
  {
   "cell_type": "markdown",
   "metadata": {},
   "source": [
    "#### Map and Apply in Pandas\n",
    "\n",
    "- find the reciprocal of column 'E'\n",
    "- find the reciprocal of all columns\n",
    "- find the mean of all columns\n",
    "- find the mean of each row"
   ]
  },
  {
   "cell_type": "code",
   "execution_count": 18,
   "metadata": {},
   "outputs": [
    {
     "data": {
      "text/plain": [
       "0     0.017241\n",
       "1     0.012500\n",
       "2     0.011236\n",
       "3     0.045455\n",
       "4     0.015873\n",
       "5     0.025000\n",
       "6     0.018519\n",
       "7     0.200000\n",
       "8     0.019231\n",
       "9     0.018182\n",
       "10    0.030303\n",
       "11    1.000000\n",
       "12    0.014085\n",
       "13    0.020408\n",
       "14    0.028571\n",
       "15    0.018182\n",
       "16    0.028571\n",
       "17    0.014493\n",
       "18    0.017544\n",
       "19    0.027027\n",
       "20    0.013333\n",
       "21    0.010526\n",
       "22    0.037037\n",
       "23    0.012821\n",
       "24    0.016667\n",
       "25    0.038462\n",
       "26    0.058824\n",
       "27    0.017544\n",
       "28    0.052632\n",
       "29    0.023256\n",
       "        ...   \n",
       "70    0.052632\n",
       "71    0.014493\n",
       "72    0.025641\n",
       "73    0.011905\n",
       "74    0.020000\n",
       "75    0.012346\n",
       "76    0.018182\n",
       "77    0.017857\n",
       "78    0.016393\n",
       "79    0.014085\n",
       "80    0.022727\n",
       "81    0.055556\n",
       "82    0.019608\n",
       "83    0.015152\n",
       "84    0.166667\n",
       "85    0.033333\n",
       "86    0.011905\n",
       "87    0.011236\n",
       "88    0.010989\n",
       "89    0.029412\n",
       "90    0.031250\n",
       "91    0.015385\n",
       "92    0.014493\n",
       "93    0.011364\n",
       "94    0.013699\n",
       "95    0.032258\n",
       "96    0.023810\n",
       "97    0.029412\n",
       "98    1.000000\n",
       "99    0.030303\n",
       "Name: E, Length: 100, dtype: float64"
      ]
     },
     "execution_count": 18,
     "metadata": {},
     "output_type": "execute_result"
    }
   ],
   "source": [
    "dummy_data = pd.DataFrame(np.random.randint(0,100,size=(100, 5)), columns=list('ABCDE'))\n",
    "dummy_data.head()\n",
    "\n",
    "dummy_data['E'].apply(inc)\n",
    "# map does not work"
   ]
  },
  {
   "cell_type": "markdown",
   "metadata": {},
   "source": [
    "#### Itertools and counters\n",
    "\n",
    "- iterable\n",
    "- chain\n",
    "- combinations"
   ]
  },
  {
   "cell_type": "code",
   "execution_count": 24,
   "metadata": {},
   "outputs": [
    {
     "name": "stdout",
     "output_type": "stream",
     "text": [
      "0\n",
      "1\n"
     ]
    },
    {
     "data": {
      "text/plain": [
       "<range_iterator at 0x105965900>"
      ]
     },
     "execution_count": 24,
     "metadata": {},
     "output_type": "execute_result"
    }
   ],
   "source": [
    "i = iter(range(7)) \n",
    "\n",
    "print(next(i))\n",
    "print(next(i))\n",
    "\n",
    "i"
   ]
  },
  {
   "cell_type": "code",
   "execution_count": 25,
   "metadata": {},
   "outputs": [
    {
     "data": {
      "text/plain": [
       "[(2, 3, 4),\n",
       " (2, 3, 5),\n",
       " (2, 3, 6),\n",
       " (2, 4, 5),\n",
       " (2, 4, 6),\n",
       " (2, 5, 6),\n",
       " (3, 4, 5),\n",
       " (3, 4, 6),\n",
       " (3, 5, 6),\n",
       " (4, 5, 6)]"
      ]
     },
     "execution_count": 25,
     "metadata": {},
     "output_type": "execute_result"
    }
   ],
   "source": [
    "#for combo in itertools.combinations(i, 3):\n",
    "    # print(combo)\n",
    "list(itertools.combinations(i, 3))\n",
    "\n",
    "# the iteration on i has stoppped so output is empty list\n",
    "# itertools.chain.from_iterable(itertools.combinations(i, 3))"
   ]
  },
  {
   "cell_type": "markdown",
   "metadata": {},
   "source": [
    "Write a function to get the power set of a list. You can assume that it will fit in memory."
   ]
  },
  {
   "cell_type": "code",
   "execution_count": null,
   "metadata": {
    "collapsed": true
   },
   "outputs": [],
   "source": [
    "pd.merge(dummy_data, dummy_data)"
   ]
  },
  {
   "cell_type": "markdown",
   "metadata": {},
   "source": [
    "#### Basic classification using sklearn\n"
   ]
  },
  {
   "cell_type": "code",
   "execution_count": 66,
   "metadata": {},
   "outputs": [
    {
     "name": "stdout",
     "output_type": "stream",
     "text": [
      "0.75\n"
     ]
    }
   ],
   "source": [
    "dummy_data[\"target\"] = np.random.randint(0,2,size=(100,))\n",
    "\n",
    "X = dummy_data[[\"A\",\"B\",\"C\",\"D\"]]\n",
    "y = dummy_data.target\n",
    "\n",
    "clf = DecisionTreeClassifier(max_depth=4)\n",
    "\n",
    "clf = clf.fit(X, y)\n",
    "y_pred = clf.predict(X)\n",
    "\n",
    "print(accuracy_score(y, y_pred))"
   ]
  },
  {
   "cell_type": "code",
   "execution_count": null,
   "metadata": {
    "collapsed": true
   },
   "outputs": [],
   "source": []
  }
 ],
 "metadata": {
  "kernelspec": {
   "display_name": "Python 3",
   "language": "python",
   "name": "python3"
  },
  "language_info": {
   "codemirror_mode": {
    "name": "ipython",
    "version": 3
   },
   "file_extension": ".py",
   "mimetype": "text/x-python",
   "name": "python",
   "nbconvert_exporter": "python",
   "pygments_lexer": "ipython3",
   "version": "3.6.1"
  }
 },
 "nbformat": 4,
 "nbformat_minor": 2
}
