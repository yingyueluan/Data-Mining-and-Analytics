{
 "cells": [
  {
   "cell_type": "markdown",
   "metadata": {},
   "source": [
    "# Lab 4: SVM + Neural Networks #\n"
   ]
  },
  {
   "cell_type": "code",
   "execution_count": 1,
   "metadata": {
    "collapsed": true
   },
   "outputs": [],
   "source": [
    "import pandas as pd\n",
    "from sklearn.neural_network import MLPClassifier\n",
    "from sklearn.svm import SVC\n",
    "\n",
    "from sklearn.preprocessing import StandardScaler, MinMaxScaler\n",
    "from sklearn.preprocessing import LabelEncoder, OneHotEncoder\n",
    "from sklearn.feature_extraction import DictVectorizer\n",
    "\n",
    "from sklearn.pipeline import Pipeline\n",
    "from sklearn.metrics import accuracy_score\n",
    "from sklearn.model_selection import train_test_split\n",
    "from sklearn.model_selection import GridSearchCV, ParameterGrid\n",
    "\n",
    "import numpy as np\n",
    "\n",
    "import warnings\n",
    "warnings.filterwarnings(\"ignore\")"
   ]
  },
  {
   "cell_type": "code",
   "execution_count": 2,
   "metadata": {},
   "outputs": [
    {
     "data": {
      "text/html": [
       "<div>\n",
       "<style>\n",
       "    .dataframe thead tr:only-child th {\n",
       "        text-align: right;\n",
       "    }\n",
       "\n",
       "    .dataframe thead th {\n",
       "        text-align: left;\n",
       "    }\n",
       "\n",
       "    .dataframe tbody tr th {\n",
       "        vertical-align: top;\n",
       "    }\n",
       "</style>\n",
       "<table border=\"1\" class=\"dataframe\">\n",
       "  <thead>\n",
       "    <tr style=\"text-align: right;\">\n",
       "      <th></th>\n",
       "      <th>Unnamed: 0</th>\n",
       "      <th>gender</th>\n",
       "      <th>age</th>\n",
       "      <th>year</th>\n",
       "      <th>eyecolor</th>\n",
       "      <th>height</th>\n",
       "      <th>miles</th>\n",
       "      <th>brothers</th>\n",
       "      <th>sisters</th>\n",
       "      <th>computertime</th>\n",
       "      <th>exercise</th>\n",
       "      <th>exercisehours</th>\n",
       "      <th>musiccds</th>\n",
       "      <th>playgames</th>\n",
       "      <th>watchtv</th>\n",
       "    </tr>\n",
       "  </thead>\n",
       "  <tbody>\n",
       "    <tr>\n",
       "      <th>0</th>\n",
       "      <td>1303</td>\n",
       "      <td>male</td>\n",
       "      <td>20</td>\n",
       "      <td>second</td>\n",
       "      <td>green</td>\n",
       "      <td>73.0</td>\n",
       "      <td>210.0</td>\n",
       "      <td>0</td>\n",
       "      <td>1</td>\n",
       "      <td>10.0</td>\n",
       "      <td>Yes</td>\n",
       "      <td>5.0</td>\n",
       "      <td>50.0</td>\n",
       "      <td>1.0</td>\n",
       "      <td>15.0</td>\n",
       "    </tr>\n",
       "    <tr>\n",
       "      <th>1</th>\n",
       "      <td>36</td>\n",
       "      <td>male</td>\n",
       "      <td>20</td>\n",
       "      <td>third</td>\n",
       "      <td>other</td>\n",
       "      <td>71.0</td>\n",
       "      <td>90.0</td>\n",
       "      <td>1</td>\n",
       "      <td>0</td>\n",
       "      <td>15.0</td>\n",
       "      <td>Yes</td>\n",
       "      <td>4.0</td>\n",
       "      <td>10.0</td>\n",
       "      <td>0.0</td>\n",
       "      <td>1.0</td>\n",
       "    </tr>\n",
       "    <tr>\n",
       "      <th>2</th>\n",
       "      <td>489</td>\n",
       "      <td>male</td>\n",
       "      <td>22</td>\n",
       "      <td>fourth</td>\n",
       "      <td>hazel</td>\n",
       "      <td>75.0</td>\n",
       "      <td>200.0</td>\n",
       "      <td>0</td>\n",
       "      <td>1</td>\n",
       "      <td>1.0</td>\n",
       "      <td>Yes</td>\n",
       "      <td>2.0</td>\n",
       "      <td>150.0</td>\n",
       "      <td>1.0</td>\n",
       "      <td>10.0</td>\n",
       "    </tr>\n",
       "    <tr>\n",
       "      <th>3</th>\n",
       "      <td>1415</td>\n",
       "      <td>male</td>\n",
       "      <td>19</td>\n",
       "      <td>second</td>\n",
       "      <td>brown</td>\n",
       "      <td>72.0</td>\n",
       "      <td>35.0</td>\n",
       "      <td>2</td>\n",
       "      <td>2</td>\n",
       "      <td>20.0</td>\n",
       "      <td>Yes</td>\n",
       "      <td>5.0</td>\n",
       "      <td>100.0</td>\n",
       "      <td>0.0</td>\n",
       "      <td>7.0</td>\n",
       "    </tr>\n",
       "    <tr>\n",
       "      <th>4</th>\n",
       "      <td>616</td>\n",
       "      <td>male</td>\n",
       "      <td>22</td>\n",
       "      <td>fourth</td>\n",
       "      <td>hazel</td>\n",
       "      <td>71.0</td>\n",
       "      <td>15.0</td>\n",
       "      <td>2</td>\n",
       "      <td>1</td>\n",
       "      <td>10.0</td>\n",
       "      <td>Yes</td>\n",
       "      <td>7.0</td>\n",
       "      <td>10.0</td>\n",
       "      <td>0.0</td>\n",
       "      <td>5.0</td>\n",
       "    </tr>\n",
       "  </tbody>\n",
       "</table>\n",
       "</div>"
      ],
      "text/plain": [
       "   Unnamed: 0 gender  age    year eyecolor  height  miles  brothers  sisters  \\\n",
       "0        1303   male   20  second    green    73.0  210.0         0        1   \n",
       "1          36   male   20   third    other    71.0   90.0         1        0   \n",
       "2         489   male   22  fourth    hazel    75.0  200.0         0        1   \n",
       "3        1415   male   19  second    brown    72.0   35.0         2        2   \n",
       "4         616   male   22  fourth    hazel    71.0   15.0         2        1   \n",
       "\n",
       "   computertime exercise  exercisehours  musiccds  playgames  watchtv  \n",
       "0          10.0      Yes            5.0      50.0        1.0     15.0  \n",
       "1          15.0      Yes            4.0      10.0        0.0      1.0  \n",
       "2           1.0      Yes            2.0     150.0        1.0     10.0  \n",
       "3          20.0      Yes            5.0     100.0        0.0      7.0  \n",
       "4          10.0      Yes            7.0      10.0        0.0      5.0  "
      ]
     },
     "execution_count": 2,
     "metadata": {},
     "output_type": "execute_result"
    }
   ],
   "source": [
    "df_train = pd.read_csv('./lab_4_training.csv')\n",
    "df_test = pd.read_csv('./lab_4_test.csv')\n",
    "df_train.head()"
   ]
  },
  {
   "cell_type": "markdown",
   "metadata": {},
   "source": [
    "***\n",
    "### Question 1###\n",
    "Calculate a baseline accuracy measure using the majority class."
   ]
  },
  {
   "cell_type": "markdown",
   "metadata": {},
   "source": [
    "** Question 1.a**  \n",
    "Find the majority class in the training set. If you always predicted this class in the training set, what would your accuracy be?"
   ]
  },
  {
   "cell_type": "code",
   "execution_count": 3,
   "metadata": {},
   "outputs": [
    {
     "data": {
      "text/plain": [
       "-120"
      ]
     },
     "execution_count": 3,
     "metadata": {},
     "output_type": "execute_result"
    }
   ],
   "source": [
    "df_train.gender[df_train.gender == \"male\"].count() - df_train.gender[df_train.gender == \"female\"].count()"
   ]
  },
  {
   "cell_type": "markdown",
   "metadata": {},
   "source": [
    "The majority of gender is female."
   ]
  },
  {
   "cell_type": "code",
   "execution_count": 4,
   "metadata": {},
   "outputs": [
    {
     "name": "stdout",
     "output_type": "stream",
     "text": [
      "accuracy: 53.774%\n"
     ]
    }
   ],
   "source": [
    "accuracy = accuracy_score(df_train.gender, [\"female\"]*len(df_train))\n",
    "print('accuracy: {:.3f}%'.format(accuracy*100))"
   ]
  },
  {
   "cell_type": "markdown",
   "metadata": {},
   "source": [
    "**Question 1.b**   \n",
    "If you always predicted this same class (majority from the training set) in the test set, what would your accuracy be?"
   ]
  },
  {
   "cell_type": "code",
   "execution_count": 5,
   "metadata": {},
   "outputs": [
    {
     "name": "stdout",
     "output_type": "stream",
     "text": [
      "accuracy: 52.261%\n"
     ]
    }
   ],
   "source": [
    "accuracy = accuracy_score(df_test.gender, [\"female\"]*len(df_test))\n",
    "print('accuracy: {:.3f}%'.format(accuracy*100))"
   ]
  },
  {
   "cell_type": "markdown",
   "metadata": {},
   "source": [
    "***\n",
    "### Question 2 ###\n",
    "Get started with Neural Networks."
   ]
  },
  {
   "cell_type": "markdown",
   "metadata": {},
   "source": [
    "   \n",
    "Choose a NN implementation and specify which you choose. Be sure the implementation allows you to modify the number of hidden layers and hidden nodes per layer.  \n",
    "\n",
    "NOTE: When possible, specify the logsig (sigmoid/logistc) function as the transfer function for the output node and use Levenberg-Marquardt backpropagation (lbfgs). It is possible to specify logsig or logistic in Sklearn MLPclassifier (Neural net).  "
   ]
  },
  {
   "cell_type": "markdown",
   "metadata": {},
   "source": [
    "scikit learn"
   ]
  },
  {
   "cell_type": "markdown",
   "metadata": {},
   "source": [
    "**Question 2.a**   \n",
    "Train a neural network with a single 10 node hidden layer. Only use the Height feature of the dataset to predict the Gender. You will have to change Gender to a 0 and 1 class. After training, use your trained model to predict the class using the height feature from the training set. What was the accuracy of this prediction?"
   ]
  },
  {
   "cell_type": "code",
   "execution_count": 6,
   "metadata": {
    "collapsed": true
   },
   "outputs": [],
   "source": [
    "# change gender to zero one class\n",
    "from sklearn import preprocessing \n",
    "le = preprocessing.LabelEncoder()\n",
    "le.fit([\"male\", \"female\"])\n",
    "y = le.transform(df_train.gender)\n",
    "X = df_train.height\n",
    "X = X.to_frame()"
   ]
  },
  {
   "cell_type": "code",
   "execution_count": 7,
   "metadata": {},
   "outputs": [
    {
     "data": {
      "text/plain": [
       "MLPClassifier(activation='logistic', alpha=1e-05, batch_size='auto',\n",
       "       beta_1=0.9, beta_2=0.999, early_stopping=False, epsilon=1e-08,\n",
       "       hidden_layer_sizes=(10,), learning_rate='constant',\n",
       "       learning_rate_init=0.001, max_iter=200, momentum=0.9,\n",
       "       nesterovs_momentum=True, power_t=0.5, random_state=1, shuffle=True,\n",
       "       solver='lbfgs', tol=0.0001, validation_fraction=0.1, verbose=False,\n",
       "       warm_start=False)"
      ]
     },
     "execution_count": 7,
     "metadata": {},
     "output_type": "execute_result"
    }
   ],
   "source": [
    "clf = MLPClassifier(solver='lbfgs', alpha=1e-5, activation = \"logistic\",\n",
    "                    hidden_layer_sizes=(10,), random_state=1)\n",
    "clf.fit(X, y)"
   ]
  },
  {
   "cell_type": "code",
   "execution_count": 8,
   "metadata": {},
   "outputs": [
    {
     "name": "stdout",
     "output_type": "stream",
     "text": [
      "accuracy: 84.654%\n"
     ]
    }
   ],
   "source": [
    "accuracy = accuracy_score(y, clf.predict(X)) \n",
    "print('accuracy: {:.3f}%'.format(accuracy*100))"
   ]
  },
  {
   "cell_type": "markdown",
   "metadata": {},
   "source": [
    "**Question 2.b**  \n",
    "Take the trained model from question 2.b and use it to predict the test set. This can be accomplished by taking the trained model and giving it the Height feature values from the test set. What is the accuracy of this model on the test set?"
   ]
  },
  {
   "cell_type": "code",
   "execution_count": 9,
   "metadata": {},
   "outputs": [
    {
     "name": "stdout",
     "output_type": "stream",
     "text": [
      "accuracy: 85.427%\n"
     ]
    }
   ],
   "source": [
    "yt = le.transform(df_test.gender)\n",
    "Xt = df_test.height\n",
    "Xt = Xt.to_frame()\n",
    "accuracy = accuracy_score(yt, clf.predict(Xt)) \n",
    "print('accuracy: {:.3f}%'.format(accuracy*100))"
   ]
  },
  {
   "cell_type": "markdown",
   "metadata": {},
   "source": [
    "**Question 2.c**   \n",
    "Neural Networks tend to prefer smaller, normalized feature values. Try taking the log of the height feature in both training and testing sets or use a Standard Scalar operation in SKlearn to centre and normalize the data between 0-1 for continuous values. Repeat question 2.c with the log version and the normalized and centered version of this feature"
   ]
  },
  {
   "cell_type": "code",
   "execution_count": 10,
   "metadata": {},
   "outputs": [
    {
     "name": "stdout",
     "output_type": "stream",
     "text": [
      "accuracy: 84.654%\n"
     ]
    }
   ],
   "source": [
    "X = np.log(df_train.height)\n",
    "X = X.to_frame()\n",
    "clf = MLPClassifier(solver='lbfgs', alpha=1e-5, activation = \"logistic\",\n",
    "                    hidden_layer_sizes=(10,), random_state=1)\n",
    "clf.fit(X, y)\n",
    "accuracy = accuracy_score(y, clf.predict(X)) \n",
    "print('accuracy: {:.3f}%'.format(accuracy*100))"
   ]
  },
  {
   "cell_type": "code",
   "execution_count": 11,
   "metadata": {},
   "outputs": [
    {
     "name": "stdout",
     "output_type": "stream",
     "text": [
      "accuracy: 85.427%\n"
     ]
    }
   ],
   "source": [
    "Xt = np.log(df_test.height)\n",
    "Xt = Xt.to_frame()\n",
    "accuracy = accuracy_score(yt, clf.predict(Xt))\n",
    "print('accuracy: {:.3f}%'.format(accuracy*100))"
   ]
  },
  {
   "cell_type": "code",
   "execution_count": 12,
   "metadata": {},
   "outputs": [
    {
     "name": "stdout",
     "output_type": "stream",
     "text": [
      "accuracy: 84.654%\n"
     ]
    }
   ],
   "source": [
    "scaler = StandardScaler()\n",
    "X = scaler.fit_transform(df_train.height)\n",
    "X = pd.DataFrame(X.reshape(len(X),-1))\n",
    "clf = MLPClassifier(solver='lbfgs', alpha=1e-5, activation = \"logistic\",\n",
    "                    hidden_layer_sizes=(10,), random_state=1)\n",
    "clf.fit(X, y)\n",
    "accuracy = accuracy_score(y, clf.predict(X)) \n",
    "print('accuracy: {:.3f}%'.format(accuracy*100))"
   ]
  },
  {
   "cell_type": "code",
   "execution_count": 13,
   "metadata": {},
   "outputs": [
    {
     "name": "stdout",
     "output_type": "stream",
     "text": [
      "accuracy: 85.427%\n"
     ]
    }
   ],
   "source": [
    "Xt = scaler.fit_transform(df_test.height)\n",
    "Xt = pd.DataFrame(Xt.reshape(len(Xt),-1))\n",
    "accuracy = accuracy_score(yt, clf.predict(Xt)) \n",
    "print('accuracy: {:.3f}%'.format(accuracy*100))"
   ]
  },
  {
   "cell_type": "markdown",
   "metadata": {},
   "source": [
    "***\n",
    "### Question 3 ###\n",
    "Get started with Support Vector Machines."
   ]
  },
  {
   "cell_type": "markdown",
   "metadata": {},
   "source": [
    "  \n",
    "Chose a SVM implementation and specify which you choose. Be sure the implementation allows you to choose between linear and RBF kernels."
   ]
  },
  {
   "cell_type": "markdown",
   "metadata": {},
   "source": [
    "scikit learn"
   ]
  },
  {
   "cell_type": "markdown",
   "metadata": {},
   "source": [
    "**Question 3.a**   \n",
    "Use the same dataset from 2.a using the linear kernel to find training set prediction accuracy."
   ]
  },
  {
   "cell_type": "code",
   "execution_count": 14,
   "metadata": {},
   "outputs": [
    {
     "name": "stdout",
     "output_type": "stream",
     "text": [
      "accuracy: 83.396%\n"
     ]
    }
   ],
   "source": [
    "X = df_train.height\n",
    "X = X.to_frame()\n",
    "clf = SVC(kernel='linear')\n",
    "clf.fit(X, y) \n",
    "accuracy = accuracy_score(y, clf.predict(X)) \n",
    "print('accuracy: {:.3f}%'.format(accuracy*100))"
   ]
  },
  {
   "cell_type": "markdown",
   "metadata": {},
   "source": [
    "**Question 3.b**   \n",
    "Use the same dataset from 2.a using the linear kernel to find test set prediction accuracy"
   ]
  },
  {
   "cell_type": "code",
   "execution_count": 15,
   "metadata": {},
   "outputs": [
    {
     "name": "stdout",
     "output_type": "stream",
     "text": [
      "accuracy: 83.166%\n"
     ]
    }
   ],
   "source": [
    "Xt = df_test.height\n",
    "Xt = Xt.to_frame()\n",
    "accuracy = accuracy_score(yt, clf.predict(Xt))\n",
    "print('accuracy: {:.3f}%'.format(accuracy*100))"
   ]
  },
  {
   "cell_type": "markdown",
   "metadata": {},
   "source": [
    "**Question 3.c**   \n",
    "Use the same dataset from 2.a using the RBF kernel  to find training set prediction accuracy"
   ]
  },
  {
   "cell_type": "code",
   "execution_count": 16,
   "metadata": {},
   "outputs": [
    {
     "name": "stdout",
     "output_type": "stream",
     "text": [
      "accuracy: 84.654%\n"
     ]
    }
   ],
   "source": [
    "clf = SVC(kernel='rbf')\n",
    "clf.fit(X, y) \n",
    "accuracy = accuracy_score(y, clf.predict(X))\n",
    "print('accuracy: {:.3f}%'.format(accuracy*100))"
   ]
  },
  {
   "cell_type": "markdown",
   "metadata": {},
   "source": [
    "**Question 3.d**   \n",
    "Use the same dataset from 2.a using the RBF kernel  to find test set prediction accuracy"
   ]
  },
  {
   "cell_type": "code",
   "execution_count": 17,
   "metadata": {},
   "outputs": [
    {
     "name": "stdout",
     "output_type": "stream",
     "text": [
      "accuracy: 85.427%\n"
     ]
    }
   ],
   "source": [
    "accuracy = accuracy_score(yt, clf.predict(Xt))\n",
    "print('accuracy: {:.3f}%'.format(accuracy*100))"
   ]
  },
  {
   "cell_type": "markdown",
   "metadata": {},
   "source": [
    "**Question 3.e**   \n",
    "Use the same dataset from 2.c (log) using the RBF to find test set prediction accuracy"
   ]
  },
  {
   "cell_type": "code",
   "execution_count": 18,
   "metadata": {},
   "outputs": [
    {
     "name": "stdout",
     "output_type": "stream",
     "text": [
      "accuracy: 85.427%\n"
     ]
    }
   ],
   "source": [
    "X = np.log(df_train.height)\n",
    "X = X.to_frame()\n",
    "Xt = np.log(df_test.height)\n",
    "Xt = Xt.to_frame()\n",
    "clf = SVC(kernel='rbf')\n",
    "clf.fit(X, y) \n",
    "accuracy = accuracy_score(yt, clf.predict(Xt)) \n",
    "print('accuracy: {:.3f}%'.format(accuracy*100))"
   ]
  },
  {
   "cell_type": "markdown",
   "metadata": {},
   "source": [
    "**Question 3.f**   \n",
    "Z-score is a normalization technique. It is the value of a feature minus the average value for that feature in the training set, divided by the standard deviation of that feature in the training set. Repeat question 3.e using Z-score and note if there is any difference in accuracy and comment on why there is a change or no change in accuracy"
   ]
  },
  {
   "cell_type": "code",
   "execution_count": 19,
   "metadata": {},
   "outputs": [
    {
     "name": "stdout",
     "output_type": "stream",
     "text": [
      "accuracy: 85.427%\n"
     ]
    }
   ],
   "source": [
    "X = (df_train.height - np.mean(df_train.height)) / np.std(df_train.height)\n",
    "X = X.to_frame()\n",
    "Xt = (df_test.height - np.mean(df_test.height)) / np.std(df_test.height)\n",
    "Xt = Xt.to_frame()\n",
    "clf = SVC(kernel='rbf')\n",
    "clf.fit(X, y) \n",
    "accuracy = accuracy_score(yt, clf.predict(Xt)) \n",
    "print('accuracy: {:.3f}%'.format(accuracy*100))"
   ]
  },
  {
   "cell_type": "markdown",
   "metadata": {},
   "source": [
    "The accuracy score does not change since Z-score only centralizes and normalizes the feature data without changing the relationship between the feature and the target."
   ]
  },
  {
   "cell_type": "markdown",
   "metadata": {},
   "source": [
    "***\n",
    "\n",
    "### Question 4 ###\n",
    "The rest of features in this dataset barring a few are categorical. Neither ML method accepts categorical features, so transform year, eyecolor, exercise into a set of binary features, one feature per unique original feature value, and mark the binary feature as ‘1’ if the feature value matches the original value and ‘0’ otherwise. Using only these binary variable transformed features, train and predict the class of the test set."
   ]
  },
  {
   "cell_type": "code",
   "execution_count": 20,
   "metadata": {
    "collapsed": true
   },
   "outputs": [],
   "source": [
    "features = df_train[['year','eyecolor', 'exercise']]\n",
    "features = features.to_dict('records')\n",
    "vec = DictVectorizer()\n",
    "X = vec.fit_transform(features).toarray()\n",
    "X = pd.DataFrame(X)\n",
    "features_t = df_test[['year','eyecolor', 'exercise']]\n",
    "features_t = features_t.to_dict('records')\n",
    "Xt = vec.fit_transform(features_t).toarray()\n",
    "Xt = pd.DataFrame(Xt)"
   ]
  },
  {
   "cell_type": "markdown",
   "metadata": {},
   "source": [
    "**Question 4.a**    \n",
    "What was your accuracy using Neural Network with a single 10 node hidden layer? During training, use a maximum number of iterations of 50. (Expected training time: ~15 mins)"
   ]
  },
  {
   "cell_type": "code",
   "execution_count": 21,
   "metadata": {},
   "outputs": [
    {
     "name": "stdout",
     "output_type": "stream",
     "text": [
      "accuracy: 59.548%\n"
     ]
    }
   ],
   "source": [
    "clf = MLPClassifier(solver='lbfgs', alpha=1e-5, activation = \"logistic\",\n",
    "                    hidden_layer_sizes=(10,), random_state=1, max_iter = 50)\n",
    "clf.fit(X, y) \n",
    "accuracy = accuracy_score(yt, clf.predict(Xt)) \n",
    "print('accuracy: {:.3f}%'.format(accuracy*100))"
   ]
  },
  {
   "cell_type": "markdown",
   "metadata": {
    "collapsed": true
   },
   "source": [
    "**Question 4.b**    \n",
    "What was your accuracy using a SVM with RBF kernel?"
   ]
  },
  {
   "cell_type": "code",
   "execution_count": 22,
   "metadata": {},
   "outputs": [
    {
     "name": "stdout",
     "output_type": "stream",
     "text": [
      "accuracy: 58.543%\n"
     ]
    }
   ],
   "source": [
    "clf = SVC(kernel='rbf')\n",
    "clf.fit(X, y) \n",
    "accuracy = accuracy_score(yt, clf.predict(Xt)) \n",
    "print('accuracy: {:.3f}%'.format(accuracy*100))"
   ]
  },
  {
   "cell_type": "markdown",
   "metadata": {},
   "source": [
    "***\n",
    "### Question 5###\n",
    "Using a NN, does height + eye color predict the test set class better by:"
   ]
  },
  {
   "cell_type": "markdown",
   "metadata": {},
   "source": [
    "Z Score is the best."
   ]
  },
  {
   "cell_type": "code",
   "execution_count": 23,
   "metadata": {
    "collapsed": true
   },
   "outputs": [],
   "source": [
    "features = df_train[['eyecolor']]\n",
    "features = features.to_dict('records')\n",
    "vec = DictVectorizer()\n",
    "X = vec.fit_transform(features).toarray()\n",
    "X = pd.DataFrame(X)\n",
    "X['height'] = df_train.height\n",
    "features_t = df_test[['eyecolor']]\n",
    "features_t = features_t.to_dict('records')\n",
    "Xt = vec.fit_transform(features_t).toarray()\n",
    "Xt = pd.DataFrame(Xt)\n",
    "Xt['height'] = df_test.height"
   ]
  },
  {
   "cell_type": "markdown",
   "metadata": {},
   "source": [
    "**Question 5.a**  \n",
    "Keeping the original feature values?"
   ]
  },
  {
   "cell_type": "code",
   "execution_count": 24,
   "metadata": {},
   "outputs": [
    {
     "name": "stdout",
     "output_type": "stream",
     "text": [
      "accuracy: 85.930%\n"
     ]
    }
   ],
   "source": [
    "clf = MLPClassifier(solver='lbfgs', alpha=1e-5, activation = \"logistic\",\n",
    "                    hidden_layer_sizes=(10,), random_state=1)\n",
    "clf.fit(X, y) \n",
    "accuracy = accuracy_score(yt, clf.predict(Xt)) \n",
    "print('accuracy: {:.3f}%'.format(accuracy*100))"
   ]
  },
  {
   "cell_type": "markdown",
   "metadata": {},
   "source": [
    "**Question 5.b**  \n",
    "Taking the log of the original values?"
   ]
  },
  {
   "cell_type": "markdown",
   "metadata": {},
   "source": [
    "plus one for one-hot variables"
   ]
  },
  {
   "cell_type": "code",
   "execution_count": 25,
   "metadata": {},
   "outputs": [
    {
     "name": "stdout",
     "output_type": "stream",
     "text": [
      "accuracy: 85.678%\n"
     ]
    }
   ],
   "source": [
    "X = vec.fit_transform(features).toarray()\n",
    "X = pd.DataFrame(X)\n",
    "X = X+1\n",
    "X['height'] = df_train.height\n",
    "X = np.log(X)\n",
    "Xt = vec.fit_transform(features_t).toarray()\n",
    "Xt = pd.DataFrame(Xt)\n",
    "Xt = Xt+1\n",
    "Xt['height'] = df_test.height\n",
    "Xt = np.log(Xt)\n",
    "clf = MLPClassifier(solver='lbfgs', alpha=1e-5, activation = \"logistic\",\n",
    "                    hidden_layer_sizes=(10,), random_state=1)\n",
    "clf.fit(X, y) \n",
    "accuracy = accuracy_score(yt, clf.predict(Xt))\n",
    "print('accuracy: {:.3f}%'.format(accuracy*100))"
   ]
  },
  {
   "cell_type": "markdown",
   "metadata": {},
   "source": [
    "**Question 5.c**  \n",
    "Taking the Z-score of the original values?"
   ]
  },
  {
   "cell_type": "code",
   "execution_count": 26,
   "metadata": {},
   "outputs": [
    {
     "name": "stdout",
     "output_type": "stream",
     "text": [
      "accuracy: 87.186%\n"
     ]
    }
   ],
   "source": [
    "X = vec.fit_transform(features).toarray()\n",
    "X = pd.DataFrame(X)\n",
    "X['height'] = df_train.height\n",
    "X = (X - np.mean(X)) / np.std(X)\n",
    "Xt = vec.fit_transform(features_t).toarray()\n",
    "Xt = pd.DataFrame(Xt)\n",
    "Xt['height'] = df_test.height\n",
    "Xt = (Xt - np.mean(Xt)) / np.std(Xt)\n",
    "clf = MLPClassifier(solver='lbfgs', alpha=1e-5, activation = \"logistic\",\n",
    "                    hidden_layer_sizes=(10,), random_state=1)\n",
    "clf.fit(X, y) \n",
    "accuracy = accuracy_score(yt, clf.predict(Xt))\n",
    "print('accuracy: {:.3f}%'.format(accuracy*100))"
   ]
  },
  {
   "cell_type": "markdown",
   "metadata": {},
   "source": [
    "***\n",
    "### Question 6 ###\n",
    "Repeat question 5 for exercise hours + eye color"
   ]
  },
  {
   "cell_type": "markdown",
   "metadata": {},
   "source": [
    "Z Score is the best."
   ]
  },
  {
   "cell_type": "code",
   "execution_count": 27,
   "metadata": {
    "collapsed": true
   },
   "outputs": [],
   "source": [
    "features = df_train[['eyecolor']]\n",
    "features = features.to_dict('records')\n",
    "vec = DictVectorizer()\n",
    "X = vec.fit_transform(features).toarray()\n",
    "X = pd.DataFrame(X)\n",
    "X['exercisehours'] = df_train.exercisehours\n",
    "features_t = df_test[['eyecolor']]\n",
    "features_t = features_t.to_dict('records')\n",
    "Xt = vec.fit_transform(features_t).toarray()\n",
    "Xt = pd.DataFrame(Xt)\n",
    "Xt['exercisehours'] = df_test.exercisehours"
   ]
  },
  {
   "cell_type": "markdown",
   "metadata": {},
   "source": [
    "Original Value"
   ]
  },
  {
   "cell_type": "code",
   "execution_count": 28,
   "metadata": {},
   "outputs": [
    {
     "name": "stdout",
     "output_type": "stream",
     "text": [
      "accuracy: 57.789%\n"
     ]
    }
   ],
   "source": [
    "clf = MLPClassifier(solver='lbfgs', alpha=1e-5, activation = \"logistic\",\n",
    "                    hidden_layer_sizes=(10,), random_state=1)\n",
    "clf.fit(X, y) \n",
    "accuracy = accuracy_score(yt, clf.predict(Xt)) \n",
    "print('accuracy: {:.3f}%'.format(accuracy*100))"
   ]
  },
  {
   "cell_type": "markdown",
   "metadata": {},
   "source": [
    "Log (plus one for all variables)"
   ]
  },
  {
   "cell_type": "code",
   "execution_count": 29,
   "metadata": {},
   "outputs": [
    {
     "name": "stdout",
     "output_type": "stream",
     "text": [
      "accuracy: 57.286%\n"
     ]
    }
   ],
   "source": [
    "X = vec.fit_transform(features).toarray()\n",
    "X = pd.DataFrame(X)\n",
    "X['exercisehours'] = df_train.exercisehours\n",
    "X = X+1\n",
    "X = np.log(X)\n",
    "Xt = vec.fit_transform(features_t).toarray()\n",
    "Xt = pd.DataFrame(Xt)\n",
    "Xt['exercisehours'] = df_test.exercisehours\n",
    "Xt = Xt+1\n",
    "Xt = np.log(Xt)\n",
    "clf = MLPClassifier(solver='lbfgs', alpha=1e-5, activation = \"logistic\",\n",
    "                    hidden_layer_sizes=(10,), random_state=1)\n",
    "clf.fit(X, y) \n",
    "accuracy = accuracy_score(yt, clf.predict(Xt))\n",
    "print('accuracy: {:.3f}%'.format(accuracy*100))"
   ]
  },
  {
   "cell_type": "markdown",
   "metadata": {},
   "source": [
    "Z Score"
   ]
  },
  {
   "cell_type": "code",
   "execution_count": 30,
   "metadata": {},
   "outputs": [
    {
     "name": "stdout",
     "output_type": "stream",
     "text": [
      "accuracy: 59.548%\n"
     ]
    }
   ],
   "source": [
    "X = vec.fit_transform(features).toarray()\n",
    "X = pd.DataFrame(X)\n",
    "X['exercisehours'] = df_train.exercisehours\n",
    "X = (X - np.mean(X)) / np.std(X)\n",
    "Xt = vec.fit_transform(features_t).toarray()\n",
    "Xt = pd.DataFrame(Xt)\n",
    "Xt['exercisehours'] = df_test.exercisehours\n",
    "Xt = (Xt - np.mean(Xt)) / np.std(Xt)\n",
    "clf = MLPClassifier(solver='lbfgs', alpha=1e-5, activation = \"logistic\",\n",
    "                    hidden_layer_sizes=(10,), random_state=1)\n",
    "clf.fit(X, y) \n",
    "accuracy = accuracy_score(yt, clf.predict(Xt))\n",
    "print('accuracy: {:.3f}%'.format(accuracy*100))"
   ]
  },
  {
   "cell_type": "markdown",
   "metadata": {},
   "source": [
    "***\n",
    "### Question 7###\n",
    "Combine the features from question 4, 5, and exercise hours from question 6 (using the best normalization feature set form questions 5 and 6)"
   ]
  },
  {
   "cell_type": "markdown",
   "metadata": {},
   "source": [
    "Z Score"
   ]
  },
  {
   "cell_type": "code",
   "execution_count": 31,
   "metadata": {
    "collapsed": true
   },
   "outputs": [],
   "source": [
    "features = df_train[['year','eyecolor', 'exercise']] # exercisehours, height\n",
    "features = features.to_dict('records')\n",
    "X = vec.fit_transform(features).toarray()\n",
    "X = pd.DataFrame(X)\n",
    "X['height'] = df_train.height\n",
    "X['exercisehours'] = df_train.exercisehours\n",
    "X = (X - X.mean()) / X.std()\n",
    "features_t = df_test[['year','eyecolor', 'exercise']]\n",
    "features_t = features_t.to_dict('records')\n",
    "Xt = vec.fit_transform(features_t).toarray()\n",
    "Xt = pd.DataFrame(Xt)\n",
    "Xt['height'] = df_test.height\n",
    "Xt['exercisehours'] = df_test.exercisehours\n",
    "Xt = (Xt - Xt.mean()) / Xt.std()"
   ]
  },
  {
   "cell_type": "markdown",
   "metadata": {},
   "source": [
    "**Question 7.a**  \n",
    "What was the NN accuracy on the test set using the single 10 node hidden layer?"
   ]
  },
  {
   "cell_type": "code",
   "execution_count": 32,
   "metadata": {},
   "outputs": [
    {
     "name": "stdout",
     "output_type": "stream",
     "text": [
      "accuracy: 87.688%\n"
     ]
    }
   ],
   "source": [
    "clf = MLPClassifier(solver='lbfgs', alpha=1e-5, activation = \"logistic\",\n",
    "                    hidden_layer_sizes=(10,), random_state=1)\n",
    "clf.fit(X, y) \n",
    "accuracy = accuracy_score(yt, clf.predict(Xt))\n",
    "print('accuracy: {:.3f}%'.format(accuracy*100))"
   ]
  },
  {
   "cell_type": "markdown",
   "metadata": {},
   "source": [
    "**Question 7.b**  \n",
    "What was the SVM accuracy on the test set the RBF kernel?"
   ]
  },
  {
   "cell_type": "code",
   "execution_count": 33,
   "metadata": {},
   "outputs": [
    {
     "name": "stdout",
     "output_type": "stream",
     "text": [
      "accuracy: 86.683%\n"
     ]
    }
   ],
   "source": [
    "clf = SVC(kernel='rbf')\n",
    "clf.fit(X, y) \n",
    "accuracy = accuracy_score(yt, clf.predict(Xt)) \n",
    "print('accuracy: {:.3f}%'.format(accuracy*100))"
   ]
  },
  {
   "cell_type": "markdown",
   "metadata": {},
   "source": [
    "***\n",
    "### Question 8- Bonus###\n",
    "Can you improve your test set prediction accuracy by 5% or more?  \n",
    "\n",
    "See how close to that milestone of improvement you can get by modifying the tuning parameters of either Neural Networks (the number of hidden layers, number of hidden nodes in each layer, the learning rate aka mu) or with SVM (choosing kernel, C, and gamma). A great guide to tuning parameters is explained in this guide: http://www.csie.ntu.edu.tw/~cjlin/papers/guide/guide.pdf. \n",
    "\n",
    "While the guide is specific to SVM and in particular the C and gamma parameters of the RBF kernel, the method applies to generally to any ML technique with tuning parameters.\n",
    "\n",
    "Please also write a paragraph in a markdown cell below with an explanation of your approach and evaluation metrics.\n"
   ]
  },
  {
   "cell_type": "code",
   "execution_count": null,
   "metadata": {
    "collapsed": true
   },
   "outputs": [],
   "source": []
  },
  {
   "cell_type": "code",
   "execution_count": null,
   "metadata": {
    "collapsed": true
   },
   "outputs": [],
   "source": []
  }
 ],
 "metadata": {
  "anaconda-cloud": {},
  "kernelspec": {
   "display_name": "Python 3",
   "language": "python",
   "name": "python3"
  },
  "language_info": {
   "codemirror_mode": {
    "name": "ipython",
    "version": 3
   },
   "file_extension": ".py",
   "mimetype": "text/x-python",
   "name": "python",
   "nbconvert_exporter": "python",
   "pygments_lexer": "ipython3",
   "version": "3.6.1"
  }
 },
 "nbformat": 4,
 "nbformat_minor": 1
}
