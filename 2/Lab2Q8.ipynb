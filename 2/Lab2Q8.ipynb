{
 "cells": [
  {
   "cell_type": "markdown",
   "metadata": {},
   "source": [
    "# Research Question"
   ]
  },
  {
   "cell_type": "markdown",
   "metadata": {},
   "source": [
    "The purpose of this research is to investigate the relationship between useful votes and number of times of positive words (\"awesome\", \"great\" and \"best\") used in reviews. Specifically, by conducting the reseach, we can answer the following questions:\n",
    "1. Were there clusters that represented very useful reviews but not mentioning any positive words?\n",
    "2. Does the cluster with the highest percetage of useful votes has the most number of occurrences of \"awesome\" (i.e. \"great\", \"best\")?\n",
    "3. Using the the sum of within cluster variance metric with the elbow method, what was the best k?"
   ]
  },
  {
   "cell_type": "markdown",
   "metadata": {},
   "source": [
    "# Dataset"
   ]
  },
  {
   "cell_type": "markdown",
   "metadata": {},
   "source": [
    "The initial dataset called yelp_reviews is a 25% sampling of the reviewers from the original Yelp dataset. The dataset includes information about business_id, user_id, stars, review test, date and number of cool/funny/useful votes given."
   ]
  },
  {
   "cell_type": "markdown",
   "metadata": {},
   "source": [
    "## Dataset Transformation"
   ]
  },
  {
   "cell_type": "markdown",
   "metadata": {},
   "source": [
    "The initial dataset (yelp_reviews) was further transformed into a new dataset (yelp_reviewers) after grouping every column by user_id and taking the sum of that group. The new dataset therefore has each row representing one reviewer. Features kept in the new dataset are average reviews per reviewers and sum of number of cool/funny/useful votes. We then added the natural log and the percentage of cool/funny/useful votes. We further processed text, date, and stars features from the original dataset. For example, we calculated the number of year the reviewer has been active and the number of times the word service appears in review. In the end, we transformed the initial dataset into a 171639 $\\times$ 43 dataframe.\t\t"
   ]
  },
  {
   "cell_type": "markdown",
   "metadata": {},
   "source": [
    "## Feature Selected"
   ]
  },
  {
   "cell_type": "markdown",
   "metadata": {},
   "source": [
    "The following features was selected because our research question concerns about whether positive words affect a review to be voted as useful. The positive words chosen are \"awesome\", \"great\" and \"best\".\n",
    "1. q13: percentage of number of useful votes per reviewer\n",
    "2. q16z: number of times the word \"awesome\" appears in review\n",
    "3. q16u: number of times the word \"great\" appears in reviews\t\n",
    "4. q16k: number of times the word \"best\" appears in reviews (This feature was originally measuring best/worst score with a positive or negative sign depending on how many times a user uses the words 'best' and 'worst' in their reviews. Since we only care about \"best\" here, we replaced all negative values with zero.\t\t\t\t\t\t"
   ]
  },
  {
   "cell_type": "markdown",
   "metadata": {},
   "source": [
    "# Method"
   ]
  },
  {
   "attachments": {},
   "cell_type": "markdown",
   "metadata": {},
   "source": [
    "Elbow method was used to select the best k. We first use Scikit-learn to implement k-means considering $2 \\leq k \\leq 8$. In order to perform the clustering, we dropped NaN values. We then calculated the sum of within cluster variance metric for each $k$. By comparing the slope difference, we found the best $k = 3$. (We can also tell the best $k$ is 3 from the graph below.)\n",
    "![Q81.png](Q81.png)"
   ]
  },
  {
   "cell_type": "markdown",
   "metadata": {},
   "source": [
    "# Results"
   ]
  },
  {
   "cell_type": "markdown",
   "metadata": {},
   "source": [
    "By calling the clusters' centers, we got the following results.\n",
    "<img src=\"Q82.png\", width=300, height=300>\n",
    "We can see from cluster 2 that when reviewers have 50.52% of reviews voted useful tend to use the most of positive words (\"awesome\", \"great\" and \"best\"). In cluster 3, only 4.86% of the reviews are useful and accordingly, positive words have the lowest usage among three cluster. We can further interpret the results to say that people tend not to consider reviews with all praises to be useful since in cluster 1, reviewers have 96.04% of useful votes do not write a lot of good words about the businesses. "
   ]
  },
  {
   "cell_type": "markdown",
   "metadata": {},
   "source": [
    "Scatter plot of useful votes against all three words for every cluster is provided below. "
   ]
  },
  {
   "cell_type": "markdown",
   "metadata": {},
   "source": [
    "Cluster 1\n",
    "<img src=\"Q83.png\", width=400, height=400>"
   ]
  },
  {
   "cell_type": "markdown",
   "metadata": {},
   "source": [
    "Cluster 2\n",
    "<img src=\"Q84.png\", width=400, height=400>"
   ]
  },
  {
   "cell_type": "markdown",
   "metadata": {},
   "source": [
    "Cluster 3\n",
    "<img src=\"Q85.png\", width=400, height=400>"
   ]
  }
 ],
 "metadata": {
  "kernelspec": {
   "display_name": "Python 3",
   "language": "python",
   "name": "python3"
  },
  "language_info": {
   "codemirror_mode": {
    "name": "ipython",
    "version": 3
   },
   "file_extension": ".py",
   "mimetype": "text/x-python",
   "name": "python",
   "nbconvert_exporter": "python",
   "pygments_lexer": "ipython3",
   "version": "3.6.1"
  }
 },
 "nbformat": 4,
 "nbformat_minor": 2
}
