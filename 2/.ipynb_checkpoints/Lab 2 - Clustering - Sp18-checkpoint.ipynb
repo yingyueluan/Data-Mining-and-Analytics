{
 "cells": [
  {
   "cell_type": "markdown",
   "metadata": {},
   "source": [
    "## Lab 2: Clustering ##\n",
    "INFO 254"
   ]
  },
  {
   "cell_type": "code",
   "execution_count": 1,
   "metadata": {
    "collapsed": true
   },
   "outputs": [],
   "source": [
    "import pandas as pd\n",
    "from sklearn.cluster import KMeans\n",
    "from sklearn.metrics import silhouette_score\n",
    "import numpy as np\n",
    "from sklearn.preprocessing import normalize\n",
    "\n",
    "import matplotlib\n",
    "import matplotlib.pyplot as plt\n",
    "\n",
    "%matplotlib inline\n",
    "matplotlib.style.use('ggplot')"
   ]
  },
  {
   "cell_type": "code",
   "execution_count": 2,
   "metadata": {},
   "outputs": [
    {
     "name": "stdout",
     "output_type": "stream",
     "text": [
      "(171639, 43)\n"
     ]
    },
    {
     "data": {
      "text/html": [
       "<div>\n",
       "<style>\n",
       "    .dataframe thead tr:only-child th {\n",
       "        text-align: right;\n",
       "    }\n",
       "\n",
       "    .dataframe thead th {\n",
       "        text-align: left;\n",
       "    }\n",
       "\n",
       "    .dataframe tbody tr th {\n",
       "        vertical-align: top;\n",
       "    }\n",
       "</style>\n",
       "<table border=\"1\" class=\"dataframe\">\n",
       "  <thead>\n",
       "    <tr style=\"text-align: right;\">\n",
       "      <th></th>\n",
       "      <th>q3</th>\n",
       "      <th>q4</th>\n",
       "      <th>q5</th>\n",
       "      <th>q6</th>\n",
       "      <th>q7</th>\n",
       "      <th>q8</th>\n",
       "      <th>q9</th>\n",
       "      <th>q10</th>\n",
       "      <th>q11</th>\n",
       "      <th>q12</th>\n",
       "      <th>...</th>\n",
       "      <th>q16r</th>\n",
       "      <th>q16u</th>\n",
       "      <th>q16v</th>\n",
       "      <th>q16w</th>\n",
       "      <th>q16x</th>\n",
       "      <th>q16y</th>\n",
       "      <th>q16z</th>\n",
       "      <th>q16aa</th>\n",
       "      <th>q16ab</th>\n",
       "      <th>q16ac</th>\n",
       "    </tr>\n",
       "  </thead>\n",
       "  <tbody>\n",
       "    <tr>\n",
       "      <th>count</th>\n",
       "      <td>24205.000000</td>\n",
       "      <td>24205.000000</td>\n",
       "      <td>24205.000000</td>\n",
       "      <td>24205.000000</td>\n",
       "      <td>24205.000000</td>\n",
       "      <td>24205.000000</td>\n",
       "      <td>24205.000000</td>\n",
       "      <td>24205.000000</td>\n",
       "      <td>24205.000000</td>\n",
       "      <td>24205.000000</td>\n",
       "      <td>...</td>\n",
       "      <td>24205.000000</td>\n",
       "      <td>24205.000000</td>\n",
       "      <td>24205.000000</td>\n",
       "      <td>24205.000000</td>\n",
       "      <td>24205.000000</td>\n",
       "      <td>24205.000000</td>\n",
       "      <td>24205.000000</td>\n",
       "      <td>24205.000000</td>\n",
       "      <td>24205.000000</td>\n",
       "      <td>24205.000000</td>\n",
       "    </tr>\n",
       "    <tr>\n",
       "      <th>mean</th>\n",
       "      <td>6.673497</td>\n",
       "      <td>5.532121</td>\n",
       "      <td>4.990002</td>\n",
       "      <td>9.002644</td>\n",
       "      <td>1.507177</td>\n",
       "      <td>0.930915</td>\n",
       "      <td>0.863740</td>\n",
       "      <td>1.540158</td>\n",
       "      <td>26.765398</td>\n",
       "      <td>25.708965</td>\n",
       "      <td>...</td>\n",
       "      <td>3.633588</td>\n",
       "      <td>0.460916</td>\n",
       "      <td>22.550671</td>\n",
       "      <td>25.064697</td>\n",
       "      <td>0.003781</td>\n",
       "      <td>73.981978</td>\n",
       "      <td>0.642677</td>\n",
       "      <td>0.561124</td>\n",
       "      <td>1.141080</td>\n",
       "      <td>3.649456</td>\n",
       "    </tr>\n",
       "    <tr>\n",
       "      <th>std</th>\n",
       "      <td>7.468561</td>\n",
       "      <td>25.407165</td>\n",
       "      <td>22.812399</td>\n",
       "      <td>28.164931</td>\n",
       "      <td>0.889274</td>\n",
       "      <td>0.980001</td>\n",
       "      <td>0.951531</td>\n",
       "      <td>1.027086</td>\n",
       "      <td>10.166944</td>\n",
       "      <td>11.569436</td>\n",
       "      <td>...</td>\n",
       "      <td>1.490942</td>\n",
       "      <td>0.509305</td>\n",
       "      <td>14.454279</td>\n",
       "      <td>28.650883</td>\n",
       "      <td>0.006020</td>\n",
       "      <td>51.060694</td>\n",
       "      <td>1.427017</td>\n",
       "      <td>1.908011</td>\n",
       "      <td>3.234828</td>\n",
       "      <td>0.990191</td>\n",
       "    </tr>\n",
       "    <tr>\n",
       "      <th>min</th>\n",
       "      <td>1.000000</td>\n",
       "      <td>1.000000</td>\n",
       "      <td>1.000000</td>\n",
       "      <td>1.000000</td>\n",
       "      <td>0.000000</td>\n",
       "      <td>0.000000</td>\n",
       "      <td>0.000000</td>\n",
       "      <td>0.000000</td>\n",
       "      <td>2.780000</td>\n",
       "      <td>1.410000</td>\n",
       "      <td>...</td>\n",
       "      <td>1.000000</td>\n",
       "      <td>0.000000</td>\n",
       "      <td>1.000000</td>\n",
       "      <td>1.000000</td>\n",
       "      <td>0.000000</td>\n",
       "      <td>0.250000</td>\n",
       "      <td>0.000000</td>\n",
       "      <td>0.000000</td>\n",
       "      <td>0.000000</td>\n",
       "      <td>1.000000</td>\n",
       "    </tr>\n",
       "    <tr>\n",
       "      <th>25%</th>\n",
       "      <td>2.000000</td>\n",
       "      <td>1.000000</td>\n",
       "      <td>1.000000</td>\n",
       "      <td>2.000000</td>\n",
       "      <td>0.690000</td>\n",
       "      <td>0.000000</td>\n",
       "      <td>0.000000</td>\n",
       "      <td>0.690000</td>\n",
       "      <td>20.000000</td>\n",
       "      <td>16.670000</td>\n",
       "      <td>...</td>\n",
       "      <td>3.000000</td>\n",
       "      <td>0.000000</td>\n",
       "      <td>10.000000</td>\n",
       "      <td>9.000000</td>\n",
       "      <td>0.000477</td>\n",
       "      <td>39.125000</td>\n",
       "      <td>0.000000</td>\n",
       "      <td>0.000000</td>\n",
       "      <td>0.000000</td>\n",
       "      <td>3.200000</td>\n",
       "    </tr>\n",
       "    <tr>\n",
       "      <th>50%</th>\n",
       "      <td>5.000000</td>\n",
       "      <td>2.000000</td>\n",
       "      <td>2.000000</td>\n",
       "      <td>5.000000</td>\n",
       "      <td>1.610000</td>\n",
       "      <td>0.690000</td>\n",
       "      <td>0.690000</td>\n",
       "      <td>1.610000</td>\n",
       "      <td>25.930000</td>\n",
       "      <td>25.000000</td>\n",
       "      <td>...</td>\n",
       "      <td>4.000000</td>\n",
       "      <td>0.333333</td>\n",
       "      <td>21.000000</td>\n",
       "      <td>17.000000</td>\n",
       "      <td>0.001944</td>\n",
       "      <td>61.842593</td>\n",
       "      <td>0.000000</td>\n",
       "      <td>0.000000</td>\n",
       "      <td>0.500000</td>\n",
       "      <td>3.800000</td>\n",
       "    </tr>\n",
       "    <tr>\n",
       "      <th>75%</th>\n",
       "      <td>8.000000</td>\n",
       "      <td>4.000000</td>\n",
       "      <td>4.000000</td>\n",
       "      <td>9.000000</td>\n",
       "      <td>2.080000</td>\n",
       "      <td>1.390000</td>\n",
       "      <td>1.390000</td>\n",
       "      <td>2.200000</td>\n",
       "      <td>33.330000</td>\n",
       "      <td>33.330000</td>\n",
       "      <td>...</td>\n",
       "      <td>5.000000</td>\n",
       "      <td>0.666667</td>\n",
       "      <td>34.000000</td>\n",
       "      <td>32.000000</td>\n",
       "      <td>0.004666</td>\n",
       "      <td>95.375000</td>\n",
       "      <td>1.000000</td>\n",
       "      <td>0.000000</td>\n",
       "      <td>1.333333</td>\n",
       "      <td>4.333333</td>\n",
       "    </tr>\n",
       "    <tr>\n",
       "      <th>max</th>\n",
       "      <td>360.000000</td>\n",
       "      <td>2333.000000</td>\n",
       "      <td>2093.000000</td>\n",
       "      <td>2420.000000</td>\n",
       "      <td>5.890000</td>\n",
       "      <td>7.750000</td>\n",
       "      <td>7.650000</td>\n",
       "      <td>7.790000</td>\n",
       "      <td>84.620000</td>\n",
       "      <td>89.290000</td>\n",
       "      <td>...</td>\n",
       "      <td>5.000000</td>\n",
       "      <td>7.000000</td>\n",
       "      <td>53.000000</td>\n",
       "      <td>1289.000000</td>\n",
       "      <td>0.150618</td>\n",
       "      <td>549.333333</td>\n",
       "      <td>44.000000</td>\n",
       "      <td>106.000000</td>\n",
       "      <td>342.300000</td>\n",
       "      <td>5.000000</td>\n",
       "    </tr>\n",
       "  </tbody>\n",
       "</table>\n",
       "<p>8 rows × 40 columns</p>\n",
       "</div>"
      ],
      "text/plain": [
       "                 q3            q4            q5            q6            q7  \\\n",
       "count  24205.000000  24205.000000  24205.000000  24205.000000  24205.000000   \n",
       "mean       6.673497      5.532121      4.990002      9.002644      1.507177   \n",
       "std        7.468561     25.407165     22.812399     28.164931      0.889274   \n",
       "min        1.000000      1.000000      1.000000      1.000000      0.000000   \n",
       "25%        2.000000      1.000000      1.000000      2.000000      0.690000   \n",
       "50%        5.000000      2.000000      2.000000      5.000000      1.610000   \n",
       "75%        8.000000      4.000000      4.000000      9.000000      2.080000   \n",
       "max      360.000000   2333.000000   2093.000000   2420.000000      5.890000   \n",
       "\n",
       "                 q8            q9           q10           q11           q12  \\\n",
       "count  24205.000000  24205.000000  24205.000000  24205.000000  24205.000000   \n",
       "mean       0.930915      0.863740      1.540158     26.765398     25.708965   \n",
       "std        0.980001      0.951531      1.027086     10.166944     11.569436   \n",
       "min        0.000000      0.000000      0.000000      2.780000      1.410000   \n",
       "25%        0.000000      0.000000      0.690000     20.000000     16.670000   \n",
       "50%        0.690000      0.690000      1.610000     25.930000     25.000000   \n",
       "75%        1.390000      1.390000      2.200000     33.330000     33.330000   \n",
       "max        7.750000      7.650000      7.790000     84.620000     89.290000   \n",
       "\n",
       "           ...               q16r          q16u          q16v          q16w  \\\n",
       "count      ...       24205.000000  24205.000000  24205.000000  24205.000000   \n",
       "mean       ...           3.633588      0.460916     22.550671     25.064697   \n",
       "std        ...           1.490942      0.509305     14.454279     28.650883   \n",
       "min        ...           1.000000      0.000000      1.000000      1.000000   \n",
       "25%        ...           3.000000      0.000000     10.000000      9.000000   \n",
       "50%        ...           4.000000      0.333333     21.000000     17.000000   \n",
       "75%        ...           5.000000      0.666667     34.000000     32.000000   \n",
       "max        ...           5.000000      7.000000     53.000000   1289.000000   \n",
       "\n",
       "               q16x          q16y          q16z         q16aa         q16ab  \\\n",
       "count  24205.000000  24205.000000  24205.000000  24205.000000  24205.000000   \n",
       "mean       0.003781     73.981978      0.642677      0.561124      1.141080   \n",
       "std        0.006020     51.060694      1.427017      1.908011      3.234828   \n",
       "min        0.000000      0.250000      0.000000      0.000000      0.000000   \n",
       "25%        0.000477     39.125000      0.000000      0.000000      0.000000   \n",
       "50%        0.001944     61.842593      0.000000      0.000000      0.500000   \n",
       "75%        0.004666     95.375000      1.000000      0.000000      1.333333   \n",
       "max        0.150618    549.333333     44.000000    106.000000    342.300000   \n",
       "\n",
       "              q16ac  \n",
       "count  24205.000000  \n",
       "mean       3.649456  \n",
       "std        0.990191  \n",
       "min        1.000000  \n",
       "25%        3.200000  \n",
       "50%        3.800000  \n",
       "75%        4.333333  \n",
       "max        5.000000  \n",
       "\n",
       "[8 rows x 40 columns]"
      ]
     },
     "execution_count": 2,
     "metadata": {},
     "output_type": "execute_result"
    }
   ],
   "source": [
    "df = pd.read_csv('yelp_reviewers.csv')\n",
    "print(df.shape)\n",
    "df.dropna().describe()"
   ]
  },
  {
   "cell_type": "markdown",
   "metadata": {},
   "source": [
    "### Question 1 ###\n",
    "\n",
    "Choose an implementation of k-means and specify it in the google sheet  \n",
    "\n",
    "** Answer **:  \n"
   ]
  },
  {
   "cell_type": "markdown",
   "metadata": {},
   "source": [
    "Scikit-learn\n"
   ]
  },
  {
   "cell_type": "markdown",
   "metadata": {},
   "source": [
    "### Question 2 ###\n",
    "What is the best choice of k according to the silhouette metric for clustering q4-q6 (# of cool, funny, useful votes). Only consider 2 <= k <= 8.  \n",
    "\n",
    "NOTE: For features with high variance, empty clusters can occur. There are several ways of dealing with empty clusters. A common approach is to drop empty clusters, the prefered approach for this Lab is to treat the empty cluster as a “singleton” leaving it empty with a single point placeholder. This can be accomplished in MATLAB, for example, with the command:  [IDX,C]=kmeans(d,4, 'Distance', 'sqeuclidean','EmptyAction','singleton')\n",
    "\n",
    "**Answer**:  "
   ]
  },
  {
   "cell_type": "code",
   "execution_count": 3,
   "metadata": {
    "collapsed": true
   },
   "outputs": [],
   "source": [
    "X = df[['q4', 'q5', 'q6']]\n",
    "kmeans22 = KMeans(n_clusters=2, random_state=0).fit(X)\n",
    "kmeans23 = KMeans(n_clusters=3, random_state=0).fit(X)\n",
    "kmeans24 = KMeans(n_clusters=4, random_state=0).fit(X)\n",
    "kmeans25 = KMeans(n_clusters=5, random_state=0).fit(X)\n",
    "kmeans26 = KMeans(n_clusters=6, random_state=0).fit(X)\n",
    "kmeans27 = KMeans(n_clusters=7, random_state=0).fit(X)\n",
    "kmeans28 = KMeans(n_clusters=8, random_state=0).fit(X)\n",
    "score22 = silhouette_score(X, kmeans22.labels_, sample_size = 10000)\n",
    "score23 = silhouette_score(X, kmeans23.labels_, sample_size = 10000)\n",
    "score24 = silhouette_score(X, kmeans24.labels_, sample_size = 10000)\n",
    "score25 = silhouette_score(X, kmeans25.labels_, sample_size = 10000)\n",
    "score26 = silhouette_score(X, kmeans26.labels_, sample_size = 10000)\n",
    "score27 = silhouette_score(X, kmeans27.labels_, sample_size = 10000)\n",
    "score28 = silhouette_score(X, kmeans28.labels_, sample_size = 10000)"
   ]
  },
  {
   "cell_type": "code",
   "execution_count": 4,
   "metadata": {},
   "outputs": [
    {
     "name": "stdout",
     "output_type": "stream",
     "text": [
      "[ 0.99677718  0.98502013  0.95549154  0.90921661  0.88735505  0.84171115\n",
      "  0.78730497]\n"
     ]
    }
   ],
   "source": [
    "print (np.array([score22, score23, score24, score25, score26, score27, score28]))"
   ]
  },
  {
   "cell_type": "markdown",
   "metadata": {},
   "source": [
    "The best is k = 2."
   ]
  },
  {
   "cell_type": "markdown",
   "metadata": {},
   "source": [
    "***\n",
    "\n",
    "### Question 3 ###\n",
    "Answer question 2 but using the log of the features (q7-q10)\n",
    "\n",
    "**Answer**:  "
   ]
  },
  {
   "cell_type": "code",
   "execution_count": 5,
   "metadata": {
    "collapsed": true
   },
   "outputs": [],
   "source": [
    "Y = df[['q8', 'q9', 'q10']]\n",
    "Y = Y.dropna()"
   ]
  },
  {
   "cell_type": "code",
   "execution_count": 6,
   "metadata": {
    "collapsed": true
   },
   "outputs": [],
   "source": [
    "kmeans32 = KMeans(n_clusters=2, random_state=0).fit(Y)\n",
    "kmeans33 = KMeans(n_clusters=3, random_state=0).fit(Y)\n",
    "kmeans34 = KMeans(n_clusters=4, random_state=0).fit(Y)\n",
    "kmeans35 = KMeans(n_clusters=5, random_state=0).fit(Y)\n",
    "kmeans36 = KMeans(n_clusters=6, random_state=0).fit(Y)\n",
    "kmeans37 = KMeans(n_clusters=7, random_state=0).fit(Y)\n",
    "kmeans38 = KMeans(n_clusters=8, random_state=0).fit(Y)\n",
    "score32 = silhouette_score(Y, kmeans32.labels_, sample_size = 10000)\n",
    "score33 = silhouette_score(Y, kmeans33.labels_, sample_size = 10000)\n",
    "score34 = silhouette_score(Y, kmeans34.labels_, sample_size = 10000)\n",
    "score35 = silhouette_score(Y, kmeans35.labels_, sample_size = 10000)\n",
    "score36 = silhouette_score(Y, kmeans36.labels_, sample_size = 10000)\n",
    "score37 = silhouette_score(Y, kmeans37.labels_, sample_size = 10000)\n",
    "score38 = silhouette_score(Y, kmeans38.labels_, sample_size = 10000)"
   ]
  },
  {
   "cell_type": "code",
   "execution_count": 7,
   "metadata": {},
   "outputs": [
    {
     "name": "stdout",
     "output_type": "stream",
     "text": [
      "[ 0.48597136  0.38959981  0.34419548  0.31508816  0.33160312  0.32456184\n",
      "  0.34898824]\n"
     ]
    }
   ],
   "source": [
    "print (np.array([score32, score33, score34, score35, score36, score37, score38]))"
   ]
  },
  {
   "cell_type": "markdown",
   "metadata": {},
   "source": [
    "The best is k = 2."
   ]
  },
  {
   "cell_type": "markdown",
   "metadata": {},
   "source": [
    "***\n",
    "\n",
    "### Question 4 ###\n",
    "Answer question 2 but using the percentage of the features (q11-q13)\n",
    "\n",
    "**Answer**:"
   ]
  },
  {
   "cell_type": "code",
   "execution_count": 8,
   "metadata": {
    "collapsed": true
   },
   "outputs": [],
   "source": [
    "Z = df[['q11', 'q12', 'q13']]\n",
    "Z = Z.dropna()"
   ]
  },
  {
   "cell_type": "code",
   "execution_count": 9,
   "metadata": {
    "collapsed": true
   },
   "outputs": [],
   "source": [
    "kmeans42 = KMeans(n_clusters=2, random_state=0).fit(Z)\n",
    "kmeans43 = KMeans(n_clusters=3, random_state=0).fit(Z)\n",
    "kmeans44 = KMeans(n_clusters=4, random_state=0).fit(Z)\n",
    "kmeans45 = KMeans(n_clusters=5, random_state=0).fit(Z)\n",
    "kmeans46 = KMeans(n_clusters=6, random_state=0).fit(Z)\n",
    "kmeans47 = KMeans(n_clusters=7, random_state=0).fit(Z)\n",
    "kmeans48 = KMeans(n_clusters=8, random_state=0).fit(Z)\n",
    "score42 = silhouette_score(Z, kmeans42.labels_, sample_size = 10000)\n",
    "score43 = silhouette_score(Z, kmeans43.labels_, sample_size = 10000)\n",
    "score44 = silhouette_score(Z, kmeans44.labels_, sample_size = 10000)\n",
    "score45 = silhouette_score(Z, kmeans45.labels_, sample_size = 10000)\n",
    "score46 = silhouette_score(Z, kmeans46.labels_, sample_size = 10000)\n",
    "score47 = silhouette_score(Z, kmeans47.labels_, sample_size = 10000)\n",
    "score48 = silhouette_score(Z, kmeans48.labels_, sample_size = 10000)"
   ]
  },
  {
   "cell_type": "code",
   "execution_count": 10,
   "metadata": {},
   "outputs": [
    {
     "name": "stdout",
     "output_type": "stream",
     "text": [
      "[ 0.48614805  0.54004779  0.59590222  0.5879288   0.61914171  0.64378054\n",
      "  0.65489777]\n"
     ]
    }
   ],
   "source": [
    "print (np.array([score42, score43, score44, score45, score46, score47, score48]))"
   ]
  },
  {
   "cell_type": "markdown",
   "metadata": {},
   "source": [
    "The best is k = 8."
   ]
  },
  {
   "cell_type": "markdown",
   "metadata": {},
   "source": [
    "***\n",
    "\n",
    "### Question 5 ###\n",
    "Inspect the [best] clustering generated from question 4"
   ]
  },
  {
   "cell_type": "code",
   "execution_count": 11,
   "metadata": {},
   "outputs": [
    {
     "data": {
      "text/plain": [
       "array([0, 0, 0, ..., 7, 2, 7], dtype=int32)"
      ]
     },
     "execution_count": 11,
     "metadata": {},
     "output_type": "execute_result"
    }
   ],
   "source": [
    "kmeans48.labels_"
   ]
  },
  {
   "cell_type": "code",
   "execution_count": 12,
   "metadata": {},
   "outputs": [
    {
     "data": {
      "text/plain": [
       "array([[  0.30554214,   0.23182781,  99.46260846],\n",
       "       [ 31.38445599,  30.40249922,  38.21043333],\n",
       "       [  1.21506044,  98.23389139,   0.55108425],\n",
       "       [ 98.94912977,   0.85379831,   0.19708216],\n",
       "       [ 50.59671645,   2.38583102,  47.01758694],\n",
       "       [  9.48795933,  23.633326  ,  66.87978695],\n",
       "       [  3.90313523,  52.76883498,  43.32818021],\n",
       "       [ 28.22177588,   4.02039933,  67.75771044]])"
      ]
     },
     "execution_count": 12,
     "metadata": {},
     "output_type": "execute_result"
    }
   ],
   "source": [
    "kmeans48.cluster_centers_"
   ]
  },
  {
   "cell_type": "markdown",
   "metadata": {},
   "source": [
    "#### 5.a ####\n",
    "**Question**: List the number of data points in each cluster (eg. C1: 2,000 C2: 4,200 etc)"
   ]
  },
  {
   "cell_type": "code",
   "execution_count": 13,
   "metadata": {},
   "outputs": [
    {
     "name": "stdout",
     "output_type": "stream",
     "text": [
      "C1: 32870\n",
      "C2: 19155\n",
      "C3: 5543\n",
      "C4: 3907\n",
      "C5: 9374\n",
      "C6: 11359\n",
      "C7: 6781\n",
      "C8: 11368\n"
     ]
    }
   ],
   "source": [
    "number_data_points = [print ('C' + str(i+1) + ':', len(np.where(kmeans48.labels_ == i)[0])) for i in range(kmeans48.n_clusters)]"
   ]
  },
  {
   "cell_type": "markdown",
   "metadata": {},
   "source": [
    "#### 5.b ####\n",
    "**Question**: Were there clusters that represented very funny but useless reviewers?  \n",
    "\n",
    "**Answer**:  "
   ]
  },
  {
   "cell_type": "code",
   "execution_count": 14,
   "metadata": {},
   "outputs": [
    {
     "data": {
      "text/plain": [
       "array([[  0.30554214,   0.23182781,  99.46260846],\n",
       "       [ 31.38445599,  30.40249922,  38.21043333],\n",
       "       [  1.21506044,  98.23389139,   0.55108425],\n",
       "       [ 98.94912977,   0.85379831,   0.19708216],\n",
       "       [ 50.59671645,   2.38583102,  47.01758694],\n",
       "       [  9.48795933,  23.633326  ,  66.87978695],\n",
       "       [  3.90313523,  52.76883498,  43.32818021],\n",
       "       [ 28.22177588,   4.02039933,  67.75771044]])"
      ]
     },
     "execution_count": 14,
     "metadata": {},
     "output_type": "execute_result"
    }
   ],
   "source": [
    "kmeans48.cluster_centers_"
   ]
  },
  {
   "cell_type": "markdown",
   "metadata": {},
   "source": [
    "Yes. Cluster 3 has funny votes approximately 98.23% but useless votes only 0.55%."
   ]
  },
  {
   "cell_type": "markdown",
   "metadata": {},
   "source": [
    "#### 5.c ####\n",
    "**Question**: How many reviewers were in the cluster that represented relatively equal strength in all voting categories (assuming such a cluster exists in your clustering)?  \n",
    "\n",
    "**Answer**:"
   ]
  },
  {
   "cell_type": "code",
   "execution_count": 15,
   "metadata": {},
   "outputs": [
    {
     "data": {
      "text/plain": [
       "19155"
      ]
     },
     "execution_count": 15,
     "metadata": {},
     "output_type": "execute_result"
    }
   ],
   "source": [
    "kmeans48.cluster_centers_[1]\n",
    "len(np.where(kmeans48.labels_ == 1)[0])"
   ]
  },
  {
   "cell_type": "markdown",
   "metadata": {},
   "source": [
    "Cluster 2 which has 19155 reviewers."
   ]
  },
  {
   "cell_type": "markdown",
   "metadata": {},
   "source": [
    "***\n",
    "\n",
    "### Question 6 ###\n",
    "Cluster the dataset using $k = 5$ and using features q7-q13 (log and % type votes) and q14 (most active year feature) and the natural log of q15 (avg review chars)"
   ]
  },
  {
   "cell_type": "code",
   "execution_count": 16,
   "metadata": {
    "collapsed": true
   },
   "outputs": [],
   "source": [
    "W = df[['q8', 'q9', 'q10', 'q11', 'q12', 'q13', 'q14', 'q15']].dropna()\n",
    "W['q15'] = np.log(W['q15'])\n",
    "kmeans6 = KMeans(n_clusters=5, random_state=0).fit(W)"
   ]
  },
  {
   "cell_type": "markdown",
   "metadata": {},
   "source": [
    "#### 6.a ####\n",
    "**Question**: What is the silhouette metric for this clustering?   \n",
    "You may use the max, as you did in question 2. For a more in-depth understanding of cluster analysis with silhouette, look [here](http://scikit-learn.org/stable/auto_examples/cluster/plot_kmeans_silhouette_analysis.html)"
   ]
  },
  {
   "cell_type": "code",
   "execution_count": 17,
   "metadata": {},
   "outputs": [
    {
     "data": {
      "text/plain": [
       "0.37709324020710444"
      ]
     },
     "execution_count": 17,
     "metadata": {},
     "output_type": "execute_result"
    }
   ],
   "source": [
    "score6 = silhouette_score(W, kmeans6.labels_, sample_size = 10000)\n",
    "score6"
   ]
  },
  {
   "cell_type": "markdown",
   "metadata": {},
   "source": [
    "#### 6.b ####\n",
    "**Question**: What was the average “number of reviews per reviewer (q3)” among the points in each of the clusters (eg. C1: 1.4 C2: 4.2 C3: 3.4 etc)"
   ]
  },
  {
   "cell_type": "code",
   "execution_count": 18,
   "metadata": {
    "collapsed": true
   },
   "outputs": [],
   "source": [
    "W['labels'] = kmeans6.labels_\n",
    "W['q3'] = df['q3']"
   ]
  },
  {
   "cell_type": "code",
   "execution_count": 19,
   "metadata": {},
   "outputs": [
    {
     "name": "stdout",
     "output_type": "stream",
     "text": [
      "C1: 7.93\n",
      "C2: 4.89\n",
      "C3: 6.84\n",
      "C4: 4.83\n",
      "C5: 8.31\n"
     ]
    }
   ],
   "source": [
    "for i in range(5):\n",
    "    avg = W[W['labels'] == i]['q3'].mean()\n",
    "    print ('C' + str(i+1) + ':', round(avg, 2))"
   ]
  },
  {
   "cell_type": "markdown",
   "metadata": {},
   "source": [
    "***\n",
    "\n",
    "### Question 7 ###\n",
    "Cluster the dataset using the features described in question 6 + every group’s question 16 features (you may drop features with high incidents of -Inf / blank / or NaN values). It is suggested that you perform some form of normalization on these question 16 features so as not to over bias the clustering towards the larger magnitude features."
   ]
  },
  {
   "cell_type": "markdown",
   "metadata": {},
   "source": [
    "#### Data Cleansing and Normalization ####\n",
    "Check how many null values there are in each column."
   ]
  },
  {
   "cell_type": "code",
   "execution_count": 20,
   "metadata": {},
   "outputs": [
    {
     "data": {
      "text/plain": [
       "q8       117853\n",
       "q9       122162\n",
       "q10       81153\n",
       "q11       71282\n",
       "q12       71282\n",
       "q13       71282\n",
       "q14           0\n",
       "q15           0\n",
       "q16a          0\n",
       "q16b          0\n",
       "q16c          0\n",
       "q16d          0\n",
       "q16e          0\n",
       "q16f          0\n",
       "q16g          0\n",
       "q16h          0\n",
       "q16i          0\n",
       "q16j          0\n",
       "q16k          0\n",
       "q16l          0\n",
       "q16m          0\n",
       "q16n          0\n",
       "q16o          0\n",
       "q16p          0\n",
       "q16q          0\n",
       "q16r          0\n",
       "q16s          0\n",
       "q16t          0\n",
       "q16u          0\n",
       "q16v          0\n",
       "q16w          0\n",
       "q16x          0\n",
       "q16y          0\n",
       "q16z          0\n",
       "q16aa         0\n",
       "q16ab     47594\n",
       "q16ac         0\n",
       "dtype: int64"
      ]
     },
     "execution_count": 20,
     "metadata": {},
     "output_type": "execute_result"
    }
   ],
   "source": [
    "D = list(df[['q8', 'q9', 'q10', 'q11', 'q12', 'q13', 'q14', 'q15']]) + list(df.loc[:,'q16a':'q16ac'])\n",
    "D = df[D]\n",
    "D.isnull().sum()"
   ]
  },
  {
   "cell_type": "markdown",
   "metadata": {},
   "source": [
    "It looks like q8 - q13 and q16ab have a lot of null values, especially q8 and q9. Let's see what the impact is of removing some of these columnsbefore removing any columns"
   ]
  },
  {
   "cell_type": "code",
   "execution_count": 21,
   "metadata": {},
   "outputs": [
    {
     "name": "stdout",
     "output_type": "stream",
     "text": [
      "24205 65546\n"
     ]
    }
   ],
   "source": [
    "D1 = D.drop(['q8', 'q9'], 1)\n",
    "print (len(D.dropna()),len(D1.dropna()))"
   ]
  },
  {
   "cell_type": "markdown",
   "metadata": {},
   "source": [
    "By removing 2 features, we double the number of rows remaining. That's pretty good.  \n",
    "Preprocess categorical variables to dummy values."
   ]
  },
  {
   "cell_type": "code",
   "execution_count": 22,
   "metadata": {},
   "outputs": [
    {
     "data": {
      "text/plain": [
       "q16s    object\n",
       "q16t    object\n",
       "dtype: object"
      ]
     },
     "execution_count": 22,
     "metadata": {},
     "output_type": "execute_result"
    }
   ],
   "source": [
    "D1 = D1.replace([np.inf, -np.inf], np.nan)\n",
    "D1 = D1.dropna()\n",
    "D1.dtypes[D1.dtypes == object]"
   ]
  },
  {
   "cell_type": "code",
   "execution_count": 23,
   "metadata": {
    "collapsed": true
   },
   "outputs": [],
   "source": [
    "D1 = D1.replace({'q16s': {\"experienced\": 1, \"freshman\": 0}, 'q16t': {\"no\" : 0, \"yes\" : 1}})"
   ]
  },
  {
   "cell_type": "markdown",
   "metadata": {},
   "source": [
    "Now normalize the remaining features."
   ]
  },
  {
   "cell_type": "code",
   "execution_count": 24,
   "metadata": {},
   "outputs": [
    {
     "name": "stdout",
     "output_type": "stream",
     "text": [
      "24 25\n"
     ]
    }
   ],
   "source": [
    "print(D1.columns.get_loc(\"q16s\"), D1.columns.get_loc(\"q16t\"))"
   ]
  },
  {
   "cell_type": "code",
   "execution_count": 25,
   "metadata": {
    "collapsed": true
   },
   "outputs": [],
   "source": [
    "D1.iloc[:,0:23] = D1.iloc[:,0:23].apply(lambda x: (x - np.mean(x)) / (np.max(x) - np.min(x)))\n",
    "D1.iloc[:,26:] = D1.iloc[:,26:].apply(lambda x: (x - np.mean(x)) / (np.max(x) - np.min(x)))"
   ]
  },
  {
   "cell_type": "markdown",
   "metadata": {},
   "source": [
    "#### 7.a ####\n",
    "**Question**: Using the silhouette metric, what was the best k?  \n",
    "\n",
    "**Answer**:  "
   ]
  },
  {
   "cell_type": "code",
   "execution_count": 26,
   "metadata": {
    "collapsed": true
   },
   "outputs": [],
   "source": [
    "D1 = D1.replace([np.inf, -np.inf], np.nan)\n",
    "D1 = D1.dropna()"
   ]
  },
  {
   "cell_type": "code",
   "execution_count": 27,
   "metadata": {
    "collapsed": true
   },
   "outputs": [],
   "source": [
    "kmeans72 = KMeans(n_clusters=2, random_state=0).fit(D1)\n",
    "kmeans73 = KMeans(n_clusters=3, random_state=0).fit(D1)\n",
    "kmeans74 = KMeans(n_clusters=4, random_state=0).fit(D1)\n",
    "kmeans75 = KMeans(n_clusters=5, random_state=0).fit(D1)\n",
    "kmeans76 = KMeans(n_clusters=6, random_state=0).fit(D1)\n",
    "kmeans77 = KMeans(n_clusters=7, random_state=0).fit(D1)\n",
    "kmeans78 = KMeans(n_clusters=8, random_state=0).fit(D1)"
   ]
  },
  {
   "cell_type": "code",
   "execution_count": 28,
   "metadata": {
    "collapsed": true
   },
   "outputs": [],
   "source": [
    "score72 = silhouette_score(D1, kmeans72.labels_, sample_size = 10000)\n",
    "score73 = silhouette_score(D1, kmeans73.labels_, sample_size = 10000)\n",
    "score74 = silhouette_score(D1, kmeans74.labels_, sample_size = 10000)\n",
    "score75 = silhouette_score(D1, kmeans75.labels_, sample_size = 10000)\n",
    "score76 = silhouette_score(D1, kmeans76.labels_, sample_size = 10000)\n",
    "score77 = silhouette_score(D1, kmeans77.labels_, sample_size = 10000)\n",
    "score78 = silhouette_score(D1, kmeans78.labels_, sample_size = 10000)"
   ]
  },
  {
   "cell_type": "code",
   "execution_count": 29,
   "metadata": {
    "scrolled": true
   },
   "outputs": [
    {
     "name": "stdout",
     "output_type": "stream",
     "text": [
      "[ 0.53637903  0.33912188  0.27731754  0.2349125   0.23513791  0.25138014\n",
      "  0.23489996]\n"
     ]
    }
   ],
   "source": [
    "print (np.array([score72, score73, score74, score75, score76, score77, score78]))"
   ]
  },
  {
   "cell_type": "markdown",
   "metadata": {},
   "source": [
    "The best k is 2."
   ]
  },
  {
   "cell_type": "markdown",
   "metadata": {},
   "source": [
    "#### 7.b ####\n",
    "**Question**: Using the the sum of within cluster variance metric with the elbow method what was the best k?  \n",
    "**Answer**:  "
   ]
  },
  {
   "cell_type": "code",
   "execution_count": 30,
   "metadata": {
    "collapsed": true
   },
   "outputs": [],
   "source": [
    "KM = [KMeans(n_clusters=k).fit(D1) for k in range(2,9)]"
   ]
  },
  {
   "cell_type": "code",
   "execution_count": 31,
   "metadata": {
    "collapsed": true
   },
   "outputs": [],
   "source": [
    "sse = [KM[i].inertia_ for i in range(len(KM))]"
   ]
  },
  {
   "cell_type": "code",
   "execution_count": 32,
   "metadata": {},
   "outputs": [
    {
     "data": {
      "image/png": "[encoded data removed]",
      "text/plain": [
       "<matplotlib.figure.Figure at 0x115012a58>"
      ]
     },
     "metadata": {},
     "output_type": "display_data"
    }
   ],
   "source": [
    "plt.plot(range(2,9), sse, 'bx-')\n",
    "plt.xlabel('k')\n",
    "plt.ylabel('Distortion')\n",
    "plt.title('The Elbow Method showing the optimal k')\n",
    "plt.show()"
   ]
  },
  {
   "cell_type": "code",
   "execution_count": 33,
   "metadata": {},
   "outputs": [
    {
     "data": {
      "text/plain": [
       "[11782.673621388392,\n",
       " 2122.7474259852388,\n",
       " 545.60210866023408,\n",
       " 1589.9065192429771,\n",
       " 880.52983501424023]"
      ]
     },
     "execution_count": 33,
     "metadata": {},
     "output_type": "execute_result"
    }
   ],
   "source": [
    "def slope(x1, y1, x2, y2):\n",
    "    return (y2-y1)/(x2-x1)\n",
    "slopes = [slope(i, sse[i-2], i+1, sse[i-1]) for i in range(2,8)]\n",
    "diff = [(slopes[i+1] - slopes[i]) for i in range(len(slopes)-1)]\n",
    "diff"
   ]
  },
  {
   "cell_type": "markdown",
   "metadata": {},
   "source": [
    "The best k is 3."
   ]
  },
  {
   "cell_type": "markdown",
   "metadata": {},
   "source": [
    "### Question 8 ###\n",
    "For this question please come up with your own question about this dataset and using a clustering technique as part of your method of answering it. This question answer should be submitted to a bCourses assignment in the form a pdf. This report is expected to be between 2 and 3 pages. It is meant to give you practice writing up your results. The report should have the following sections:\n",
    "\n",
    "\n",
    "RESEARCH QUESTION: Describe what it is you want to ask of this dataset\n",
    "                 (the question can not be the same as question 9)\n",
    "                 \n",
    "                 \n",
    "DATASET: describe the yelp_reviews to yelp_reviewers transformation. have a subsection called FEATURES SELECTED: briefly describe the features from the dataset you choose (at least 1 features should be from a q16)\n",
    "\n",
    "\n",
    "METHODS: Briefly describe the methods you used (such as k-means) and why you used them\n",
    "\n",
    "\n",
    "RESULTS: Here you can tell the story of how you investigated the question (plots are always nice) and the conclusions you drew.\n",
    "\n",
    "\n",
    "NOTE: If you are hypothesizing that clusters might be formed with respect to a particular attribute, consider withholding that attribute from clustering and then looking to see what the mean value or distribution of that attribute is among the formed clusters."
   ]
  },
  {
   "cell_type": "code",
   "execution_count": 34,
   "metadata": {
    "collapsed": true
   },
   "outputs": [],
   "source": [
    "# feature of percentage of \"useful\" votes\n",
    "# features of word \"awesome\", \"great\" and \"best/worst\"\n",
    "N = df[['q13', 'q16z', 'q16u', 'q16k']].dropna()"
   ]
  },
  {
   "cell_type": "code",
   "execution_count": 35,
   "metadata": {
    "collapsed": true
   },
   "outputs": [],
   "source": [
    "# only \"best\"\n",
    "N[N < 0] = 0"
   ]
  },
  {
   "cell_type": "code",
   "execution_count": 36,
   "metadata": {
    "collapsed": true
   },
   "outputs": [],
   "source": [
    "KM8 = [KMeans(n_clusters=k).fit(N) for k in range(2,9)]\n",
    "sse8 = [KM8[i].inertia_ for i in range(len(KM8))]"
   ]
  },
  {
   "cell_type": "code",
   "execution_count": 37,
   "metadata": {},
   "outputs": [
    {
     "data": {
      "image/png": "[encoded data removed]",
      "text/plain": [
       "<matplotlib.figure.Figure at 0x1158eb048>"
      ]
     },
     "metadata": {},
     "output_type": "display_data"
    }
   ],
   "source": [
    "plt.plot(range(2,9), sse8, 'bx-')\n",
    "plt.xlabel('k')\n",
    "plt.ylabel('Distortion')\n",
    "plt.title('The Elbow Method showing the optimal k')\n",
    "plt.show()"
   ]
  },
  {
   "cell_type": "code",
   "execution_count": 38,
   "metadata": {
    "scrolled": true
   },
   "outputs": [
    {
     "data": {
      "text/plain": [
       "[13377756.891530227,\n",
       " 3863993.2696106685,\n",
       " 1540294.7036775297,\n",
       " 416325.89034645376,\n",
       " 101864.98421945178]"
      ]
     },
     "execution_count": 38,
     "metadata": {},
     "output_type": "execute_result"
    }
   ],
   "source": [
    "slopes8 = [slope(i, sse8[i-2], i+1, sse8[i-1]) for i in range(2,8)]\n",
    "diff8 = [(slopes8[i+1] - slopes8[i]) for i in range(len(slopes8)-1)]\n",
    "diff8"
   ]
  },
  {
   "cell_type": "markdown",
   "metadata": {},
   "source": [
    "The best k is 3."
   ]
  },
  {
   "cell_type": "code",
   "execution_count": 39,
   "metadata": {},
   "outputs": [
    {
     "data": {
      "text/plain": [
       "array([[ 96.03839886,   0.25793132,   0.43640669,   0.46556898],\n",
       "       [ 50.51982632,   0.52238194,   0.46838712,   0.91207169],\n",
       "       [  4.86434003,   0.23716168,   0.42064083,   0.40344472]])"
      ]
     },
     "execution_count": 39,
     "metadata": {},
     "output_type": "execute_result"
    }
   ],
   "source": [
    "KM8[1].cluster_centers_"
   ]
  },
  {
   "cell_type": "code",
   "execution_count": 40,
   "metadata": {
    "collapsed": true
   },
   "outputs": [],
   "source": [
    "N['labels'] = KM8[1].labels_\n",
    "N1 = N[N['labels'] == 0]\n",
    "N2 = N[N['labels'] == 1]\n",
    "N3 = N[N['labels'] == 2]"
   ]
  },
  {
   "cell_type": "code",
   "execution_count": 41,
   "metadata": {
    "scrolled": true
   },
   "outputs": [
    {
     "data": {
      "image/png": "[encoded data removed]",
      "text/plain": [
       "<matplotlib.figure.Figure at 0x1154a37b8>"
      ]
     },
     "metadata": {},
     "output_type": "display_data"
    }
   ],
   "source": [
    "plt.figure(1,figsize=(10,5))\n",
    "plt.subplot(131)\n",
    "plt.title('Useful vs Awesome')\n",
    "plt.scatter(np.array(N1['q16z']), np.array(N1['q13']))\n",
    "plt.subplot(132)\n",
    "plt.title('Useful vs Great')\n",
    "plt.scatter(np.array(N1['q16u']), np.array(N1['q13']))\n",
    "plt.subplot(133)\n",
    "plt.title('Useful vs Best')\n",
    "plt.scatter(np.array(N1['q16k']), np.array(N1['q13']))\n",
    "plt.show()"
   ]
  },
  {
   "cell_type": "code",
   "execution_count": 42,
   "metadata": {},
   "outputs": [
    {
     "data": {
      "image/png": "[encoded data removed]",
      "text/plain": [
       "<matplotlib.figure.Figure at 0x117a1c208>"
      ]
     },
     "metadata": {},
     "output_type": "display_data"
    }
   ],
   "source": [
    "plt.figure(1,figsize=(10,5))\n",
    "plt.subplot(131)\n",
    "plt.title('Useful vs Awesome')\n",
    "plt.scatter(np.array(N2['q16z']), np.array(N2['q13']))\n",
    "plt.subplot(132)\n",
    "plt.title('Useful vs Great')\n",
    "plt.scatter(np.array(N2['q16u']), np.array(N2['q13']))\n",
    "plt.subplot(133)\n",
    "plt.title('Useful vs Best')\n",
    "plt.scatter(np.array(N2['q16k']), np.array(N2['q13']))\n",
    "plt.show()"
   ]
  },
  {
   "cell_type": "code",
   "execution_count": 43,
   "metadata": {},
   "outputs": [
    {
     "data": {
      "image/png": "[encoded data removed]",
      "text/plain": [
       "<matplotlib.figure.Figure at 0x11dda4908>"
      ]
     },
     "metadata": {},
     "output_type": "display_data"
    }
   ],
   "source": [
    "plt.figure(1,figsize=(10,5))\n",
    "plt.subplot(131)\n",
    "plt.title('Useful vs Awesome')\n",
    "plt.scatter(np.array(N3['q16z']), np.array(N3['q13']))\n",
    "plt.subplot(132)\n",
    "plt.title('Useful vs Great')\n",
    "plt.scatter(np.array(N3['q16u']), np.array(N3['q13']))\n",
    "plt.subplot(133)\n",
    "plt.title('Useful vs Best')\n",
    "plt.scatter(np.array(N3['q16k']), np.array(N3['q13']))\n",
    "plt.show()"
   ]
  },
  {
   "cell_type": "markdown",
   "metadata": {},
   "source": [
    "## Bonus question (+15%) - Reviewer overlap:\n",
    "Create a dataset with f reviewers as the rows and business_ids as the columns (there are a lot) where the feature value is is ‘1’ if the reviewer has written a review for that business and ‘0’ if not. Use the methods described in this assignment to answer the question of how much overlap of businesses reviewed exists among reviewers in this dataset. Append this answer to your question 8 document."
   ]
  },
  {
   "cell_type": "code",
   "execution_count": null,
   "metadata": {
    "collapsed": true
   },
   "outputs": [],
   "source": []
  }
 ],
 "metadata": {
  "anaconda-cloud": {},
  "kernelspec": {
   "display_name": "Python 3",
   "language": "python",
   "name": "python3"
  },
  "language_info": {
   "codemirror_mode": {
    "name": "ipython",
    "version": 3
   },
   "file_extension": ".py",
   "mimetype": "text/x-python",
   "name": "python",
   "nbconvert_exporter": "python",
   "pygments_lexer": "ipython3",
   "version": "3.6.1"
  }
 },
 "nbformat": 4,
 "nbformat_minor": 1
}
